{
 "cells": [
  {
   "cell_type": "markdown",
   "metadata": {},
   "source": [
    "<b>I was having difficulty getting agate working so I decided to give Pandas a try</b>"
   ]
  },
  {
   "cell_type": "code",
   "execution_count": 387,
   "metadata": {
    "collapsed": true
   },
   "outputs": [],
   "source": [
    "import csv\n",
    "import pandas as pd\n",
    "import numpy as np"
   ]
  },
  {
   "cell_type": "code",
   "execution_count": 388,
   "metadata": {
    "collapsed": true
   },
   "outputs": [],
   "source": [
    "low_memory =False"
   ]
  },
  {
   "cell_type": "markdown",
   "metadata": {},
   "source": [
    "Uploading the file"
   ]
  },
  {
   "cell_type": "code",
   "execution_count": 389,
   "metadata": {
    "collapsed": false
   },
   "outputs": [],
   "source": [
    "hatecrime = pd.read_csv('oncampushate111213.csv')"
   ]
  },
  {
   "cell_type": "markdown",
   "metadata": {},
   "source": [
    "<b>Given that some of the recent incidents on MU's campus have involved vandalism, that's what\n",
    "I've decided to focus on. First, I thought I would learn how many schools were in each state.</b>"
   ]
  },
  {
   "cell_type": "code",
   "execution_count": 390,
   "metadata": {
    "collapsed": false
   },
   "outputs": [
    {
     "name": "stdout",
     "output_type": "stream",
     "text": [
      "       State\n",
      "State       \n",
      "CA      1059\n",
      "TX       729\n",
      "FL       695\n",
      "NY       628\n",
      "PA       492\n",
      "OH       455\n",
      "IL       444\n",
      "GA       349\n",
      "MI       331\n",
      "MO       325\n",
      "NC       320\n",
      "VA       284\n",
      "TN       272\n",
      "AZ       248\n",
      "MA       240\n",
      "IN       230\n",
      "PR       210\n",
      "NJ       207\n",
      "KY       203\n",
      "WA       199\n",
      "WI       196\n",
      "OK       190\n",
      "LA       188\n",
      "MN       183\n",
      "CO       174\n",
      "SC       173\n",
      "IA       149\n",
      "OR       143\n",
      "MD       141\n",
      "KS       133\n",
      "AR       124\n",
      "AL       122\n",
      "CT       116\n",
      "UT       105\n",
      "MS        95\n",
      "WV        88\n",
      "NE        84\n",
      "NM        82\n",
      "NV        68\n",
      "ID        64\n",
      "ME        61\n",
      "NH        58\n",
      "DC        46\n",
      "HI        45\n",
      "ND        42\n",
      "MT        39\n",
      "DE        36\n",
      "SD        35\n",
      "RI        32\n",
      "VT        32\n",
      "AK        32\n",
      "WY        19\n",
      "FM         6\n",
      "GU         3\n",
      "VI         3\n",
      "MP         3\n",
      "MH         2\n",
      "AS         1\n",
      "PW         1\n",
      "\n",
      "[59 rows x 1 columns]\n"
     ]
    }
   ],
   "source": [
    "campus_per_state = hatecrime[['State']]\n",
    "print campus_per_state.groupby(['State']).count().sort(['State'], ascending=False)"
   ]
  },
  {
   "cell_type": "markdown",
   "metadata": {},
   "source": [
    "<b>There are 325 schools from Missouri in the database. Good to know.<b> "
   ]
  },
  {
   "cell_type": "markdown",
   "metadata": {},
   "source": [
    "<b>Now I'll try to make a general table for ten Missouri schools, starting with the largest body of students.</b>"
   ]
  },
  {
   "cell_type": "code",
   "execution_count": 391,
   "metadata": {
    "collapsed": false
   },
   "outputs": [
    {
     "name": "stdout",
     "output_type": "stream",
     "text": [
      "                                                                         UNITID_P  \\\n",
      "INSTNM                                                                              \n",
      "Saint Louis Community College                                          1613772052   \n",
      "Webster University                                                     1619046326   \n",
      "Columbia College                                                       1593585139   \n",
      "Metropolitan Community College-Kansas City                             1067970021   \n",
      "Lindenwood University                                                  1423744048   \n",
      "Central Methodist University-College of Graduate and Extended Studies  7569539153   \n",
      "Park University                                                        1251047148   \n",
      "Ozarks Technical Community College                                      887360015   \n",
      "Kaplan University-Davenport Campus                                      260901004   \n",
      "Southeast Missouri State University                                     718228010   \n",
      "\n",
      "                                                                       men_total  \\\n",
      "INSTNM                                                                             \n",
      "Saint Louis Community College                                              88020   \n",
      "Webster University                                                         68193   \n",
      "Columbia College                                                           61803   \n",
      "Metropolitan Community College-Kansas City                                 49968   \n",
      "Lindenwood University                                                      40328   \n",
      "Central Methodist University-College of Graduate and Extended Studies      26571   \n",
      "Park University                                                            40663   \n",
      "Ozarks Technical Community College                                         31310   \n",
      "Kaplan University-Davenport Campus                                         12838   \n",
      "Southeast Missouri State University                                        19784   \n",
      "\n",
      "                                                                       women_total  \\\n",
      "INSTNM                                                                               \n",
      "Saint Louis Community College                                               128025   \n",
      "Webster University                                                           92943   \n",
      "Columbia College                                                             90711   \n",
      "Metropolitan Community College-Kansas City                                   65436   \n",
      "Lindenwood University                                                        57376   \n",
      "Central Methodist University-College of Graduate and Extended Studies        50864   \n",
      "Park University                                                              36183   \n",
      "Ozarks Technical Community College                                           42680   \n",
      "Kaplan University-Davenport Campus                                           39569   \n",
      "Southeast Missouri State University                                          27284   \n",
      "\n",
      "                                                                        Total  \n",
      "INSTNM                                                                         \n",
      "Saint Louis Community College                                          216045  \n",
      "Webster University                                                     161136  \n",
      "Columbia College                                                       152514  \n",
      "Metropolitan Community College-Kansas City                             115404  \n",
      "Lindenwood University                                                   97704  \n",
      "Central Methodist University-College of Graduate and Extended Studies   77435  \n",
      "Park University                                                         76846  \n",
      "Ozarks Technical Community College                                      73990  \n",
      "Kaplan University-Davenport Campus                                      52407  \n",
      "Southeast Missouri State University                                     47068  \n",
      "\n",
      "[10 rows x 4 columns]\n"
     ]
    }
   ],
   "source": [
    "mo_schools = hatecrime[['UNITID_P', 'INSTNM', 'BRANCH', 'City', 'State', 'men_total', 'women_total', 'Total']]\n",
    "mo_schools_population = mo_schools.loc[mo_schools['State'] == 'MO'].groupby(['INSTNM']).aggregate(np.sum).sort(['Total'], ascending=False)\n",
    "print mo_schools_population.dropna()[:10]"
   ]
  },
  {
   "cell_type": "markdown",
   "metadata": {},
   "source": [
    "<b>Hmmm...so, MU Columbia is not within the top ten in terms of the student body population. \n",
    "Then again, the record layout doesn't really specify what makes up the grand total.\n",
    "Oh well, let's try to see if we can get the data on Mizzou by searching for city and state.</b>"
   ]
  },
  {
   "cell_type": "code",
   "execution_count": 392,
   "metadata": {
    "collapsed": false
   },
   "outputs": [
    {
     "name": "stdout",
     "output_type": "stream",
     "text": [
      "                                                                        UNITID_P  \\\n",
      "INSTNM                                                                             \n",
      "Columbia College                                                       177065001   \n",
      "Moberly Area Community College                                         178448002   \n",
      "Central Methodist University-College of Graduate and Extended Studies  445267004   \n",
      "William Woods University                                               179964002   \n",
      "Bryan University                                                       475583001   \n",
      "\n",
      "                                                                       men_total  \\\n",
      "INSTNM                                                                             \n",
      "Columbia College                                                            6867   \n",
      "Moberly Area Community College                                              2249   \n",
      "Central Methodist University-College of Graduate and Extended Studies       1563   \n",
      "William Woods University                                                     693   \n",
      "Bryan University                                                              22   \n",
      "\n",
      "                                                                       women_total  \\\n",
      "INSTNM                                                                               \n",
      "Columbia College                                                             10079   \n",
      "Moberly Area Community College                                                3461   \n",
      "Central Methodist University-College of Graduate and Extended Studies         2992   \n",
      "William Woods University                                                      1443   \n",
      "Bryan University                                                                89   \n",
      "\n",
      "                                                                       Total  \n",
      "INSTNM                                                                        \n",
      "Columbia College                                                       16946  \n",
      "Moberly Area Community College                                          5710  \n",
      "Central Methodist University-College of Graduate and Extended Studies   4555  \n",
      "William Woods University                                                2136  \n",
      "Bryan University                                                         111  \n",
      "\n",
      "[5 rows x 4 columns]\n"
     ]
    }
   ],
   "source": [
    "schools = hatecrime[['UNITID_P', 'INSTNM', 'BRANCH', 'City', 'State', 'men_total', 'women_total', 'Total']]\n",
    "mo_schools = schools.loc[schools['State'] == 'MO']\n",
    "mo_schools_columbia = mo_schools.loc[mo_schools['City'] == 'Columbia'].groupby(['INSTNM']).aggregate(np.sum).sort(['Total'], ascending=False)\n",
    "print mo_schools_columbia.dropna()[:10]"
   ]
  },
  {
   "cell_type": "markdown",
   "metadata": {},
   "source": [
    "<b>No Mizzou or Stephens College. Let's try something else.</b>"
   ]
  },
  {
   "cell_type": "markdown",
   "metadata": {},
   "source": [
    "<b>Lets look for the 20 most populous schools in the entire database.</b>"
   ]
  },
  {
   "cell_type": "code",
   "execution_count": 393,
   "metadata": {
    "collapsed": false
   },
   "outputs": [
    {
     "name": "stdout",
     "output_type": "stream",
     "text": [
      "                                                        UNITID_P  men_total  \\\n",
      "INSTNM                                                                        \n",
      "Ivy Tech Community College                            3623688300     981216   \n",
      "Embry-Riddle Aeronautical University-Worldwide       57978715157    1711152   \n",
      "Webster University                                   11873006895     500082   \n",
      "Houston Community College                             4283037259     466906   \n",
      "Austin Community College District                     5351808373     444240   \n",
      "University of Central Florida                         2126448151     429504   \n",
      "Northern Virginia Community College                   3261244105     353640   \n",
      "New York University                                   3102400145     297904   \n",
      "Northern Arizona University                           2422590316     248377   \n",
      "Columbia College                                      7439736713     241826   \n",
      "Miami Dade College                                    1085736041     221792   \n",
      "Lone Star College System                              1590274028     180579   \n",
      "Park University                                       7148840963     232360   \n",
      "Broward College                                       1327090055     180350   \n",
      "SUNY Empire State College                             6869240630     155925   \n",
      "Virginia Polytechnic Institute and State University   3040973103     235222   \n",
      "Purdue University-Main Campus                         2437800055     232340   \n",
      "University of Southern California                     1115649045     179073   \n",
      "Pima Community College                                1266300098     169428   \n",
      "Instituto de Banca y Comercio Inc                     5333284253     156618   \n",
      "\n",
      "                                                     women_total    Total  \n",
      "INSTNM                                                                     \n",
      "Ivy Tech Community College                               1389456  2370672  \n",
      "Embry-Riddle Aeronautical University-Worldwide            269552  1980704  \n",
      "Webster University                                        681582  1181664  \n",
      "Houston Community College                                 634676  1101582  \n",
      "Austin Community College District                         554808   999048  \n",
      "University of Central Florida                             523920   953424  \n",
      "Northern Virginia Community College                       371602   725242  \n",
      "New York University                                       415680   713584  \n",
      "Northern Arizona University                               363285   611662  \n",
      "Columbia College                                          355699   597525  \n",
      "Miami Dade College                                        308592   530384  \n",
      "Lone Star College System                                  267925   448504  \n",
      "Park University                                           206760   439120  \n",
      "Broward College                                           258480   438830  \n",
      "SUNY Empire State College                                 257880   413805  \n",
      "Virginia Polytechnic Institute and State University       170443   405665  \n",
      "Purdue University-Main Campus                             165600   397940  \n",
      "University of Southern California                         193239   372312  \n",
      "Pima Community College                                    191556   360984  \n",
      "Instituto de Banca y Comercio Inc                         202840   359458  \n",
      "\n",
      "[20 rows x 4 columns]\n"
     ]
    }
   ],
   "source": [
    "big_schools = schools.groupby(['INSTNM']).aggregate(np.sum).sort(['Total'], ascending=False)\n",
    "print big_schools.dropna()[:20]"
   ]
  },
  {
   "cell_type": "markdown",
   "metadata": {},
   "source": [
    "<b>Now, let's look at the first 20 schools that had the largest number of reported vandalism cases from 2011 - 2012</b>"
   ]
  },
  {
   "cell_type": "code",
   "execution_count": 394,
   "metadata": {
    "collapsed": false
   },
   "outputs": [
    {
     "name": "stdout",
     "output_type": "stream",
     "text": [
      "                                         INSTNM State  \\\n",
      "1023                         Fort Lewis College    CO   \n",
      "5742                    Delaware Valley College    PA   \n",
      "1146                            Trinity College    CT   \n",
      "469           University of California-Berkeley    CA   \n",
      "5906  Pennsylvania State University-Main Campus    PA   \n",
      "3160                    Northeastern University    MA   \n",
      "1183                        American University    DC   \n",
      "2220               Indiana University-Southeast    IN   \n",
      "5350                            Oberlin College    OH   \n",
      "5365          Ohio State University-Main Campus    OH   \n",
      "2961        University of Maryland-College Park    MD   \n",
      "4721                             SUNY at Albany    NY   \n",
      "1087                  University of Connecticut    CT   \n",
      "482         University of California-Santa Cruz    CA   \n",
      "4723                         SUNY at Binghamton    NY   \n",
      "2713                        Thomas More College    KY   \n",
      "1133                      Quinnipiac University    CT   \n",
      "4148                        Keene State College    NH   \n",
      "4243                 Montclair State University    NJ   \n",
      "3058                              Curry College    MA   \n",
      "\n",
      "                           BRANCH  VANDAL11  VANDAL12  VANDAL13  VANDAL_111213  \n",
      "1023                  Main Campus         0         7         8             15  \n",
      "5742      Delaware Valley College         7         5         2             14  \n",
      "1146  Main Campus Trinity College         9         3         0             12  \n",
      "469                   Main Campus         4         5         3             12  \n",
      "5906       University Park Campus         3         3         6             12  \n",
      "3160                  Main Campus         3         3         5             11  \n",
      "1183                  Main Campus         2         0         9             11  \n",
      "2220                  Main Campus         2         8         0             10  \n",
      "5350                  Main Campus         3         0         7             10  \n",
      "5365                  Main Campus         4         3         2              9  \n",
      "2961                  Main Campus         1         4         4              9  \n",
      "4721                  Main Campus         2         7         0              9  \n",
      "1087                  Main Campus         2         3         4              9  \n",
      "482                   Main Campus         8         0         1              9  \n",
      "4723                  Main Campus         2         2         5              9  \n",
      "2713                  Main Campus         3         4         2              9  \n",
      "1133                  Main Campus         0         3         6              9  \n",
      "4148          Keene State College         6         3         0              9  \n",
      "4243                  Main Campus         2         4         3              9  \n",
      "3058                  Main Campus         3         4         2              9  \n",
      "\n",
      "[20 rows x 7 columns]\n"
     ]
    }
   ],
   "source": [
    "hatecrime['VANDAL_111213'] = hatecrime['VANDAL11'] + hatecrime['VANDAL12'] + hatecrime['VANDAL13']\n",
    "vandalism = hatecrime[['INSTNM', 'State', 'BRANCH', 'VANDAL11', 'VANDAL12', 'VANDAL13', 'VANDAL_111213']]\n",
    "van_inst = vandalism.sort(['VANDAL_111213'], ascending=False)\n",
    "print van_inst.dropna()[:20]"
   ]
  },
  {
   "cell_type": "markdown",
   "metadata": {},
   "source": [
    "<b>Taking a quick look at the top 3, Fort Lewis in Colorado had the highest number of vandlism incidents during this time period with 15, with incidents increasing with each passing year. Delaware Valley in Pennsylvania was second with 14, with incidents decreasing with each year and Trinity College in Conneticut is number 3 with 12 reported incidents and a pretty massive decrease over the same period of time. Now to get the national total for reported vandalism, year by year over this period.</b> "
   ]
  },
  {
   "cell_type": "code",
   "execution_count": 395,
   "metadata": {
    "collapsed": false
   },
   "outputs": [
    {
     "name": "stdout",
     "output_type": "stream",
     "text": [
      "Below is the number of cases of vandalism reported on college campuses in 2011\n",
      "371.0\n",
      "Below is the number of cases of vandalism reported on college campuses in 2012\n",
      "410.0\n",
      "Below is the number of cases of vandalism reported on college campuses in 2013\n",
      "370\n",
      "The total from 2011, 2012, and 2013 is:\n",
      "1151.0\n"
     ]
    }
   ],
   "source": [
    "van11total = hatecrime['VANDAL11'].sum()\n",
    "print 'Below is the number of cases of vandalism reported on college campuses in 2011'\n",
    "print van11total\n",
    "van12total = hatecrime['VANDAL12'].sum()\n",
    "print 'Below is the number of cases of vandalism reported on college campuses in 2012'\n",
    "print van12total\n",
    "van13total = hatecrime['VANDAL13'].sum()\n",
    "print 'Below is the number of cases of vandalism reported on college campuses in 2013'\n",
    "print van13total\n",
    "van3year_total = van11total + van12total + van13total\n",
    "print 'The total from 2011, 2012, and 2013 is:'\n",
    "print van3year_total"
   ]
  },
  {
   "cell_type": "markdown",
   "metadata": {},
   "source": [
    "<b>Reported incidents of vandalism spiked up in 2012 with 410 reported incidents from the previous year's 371 before dropping back down to 370 in 2013. Over this period there were 1151 reported incidents of vandalism.</b> "
   ]
  },
  {
   "cell_type": "code",
   "execution_count": 396,
   "metadata": {
    "collapsed": false
   },
   "outputs": [
    {
     "name": "stdout",
     "output_type": "stream",
     "text": [
      "Vandalism by racial bias over three years:\n",
      "502.0\n",
      "Vandalism by religious bias over three years:\n",
      "175.0\n",
      "Vandalism by sexual orientation bias over three years:\n",
      "325.0\n",
      "Vandalism by gender bias over three years:\n",
      "34.0\n",
      "Vandalism by disability bias over three years:\n",
      "3.0\n",
      "Vandalism by ethnicity bias over three years:\n",
      "100.0\n",
      "All together:\n",
      "1139.0\n"
     ]
    }
   ],
   "source": [
    "hatecrime['VANDAL_RAC111213'] = hatecrime['VANDAL_RAC11'] + hatecrime['VANDAL_RAC12'] + hatecrime['VANDAL_RAC13']\n",
    "vandal_race111213 = hatecrime['VANDAL_RAC111213'].sum()\n",
    "print 'Vandalism by racial bias over three years:'\n",
    "print vandal_race111213\n",
    "\n",
    "hatecrime['VANDAL_REL111213'] = hatecrime['VANDAL_REL11'] + hatecrime['VANDAL_REL12'] + hatecrime['VANDAL_REL13']\n",
    "vandal_religion111213 = hatecrime['VANDAL_REL111213'].sum()\n",
    "print 'Vandalism by religious bias over three years:'\n",
    "print vandal_religion111213\n",
    "\n",
    "hatecrime['VANDAL_SEX111213'] = hatecrime['VANDAL_SEX11'] + hatecrime['VANDAL_SEX12'] + hatecrime['VANDAL_SEX13']\n",
    "vandal_sex111213 = hatecrime['VANDAL_SEX111213'].sum()\n",
    "print 'Vandalism by sexual orientation bias over three years:'\n",
    "print vandal_sex111213\n",
    "\n",
    "hatecrime['VANDAL_GEN111213'] = hatecrime['VANDAL_GEN11'] + hatecrime['VANDAL_GEN12'] + hatecrime['VANDAL_GEN13']\n",
    "vandal_gender111213 = hatecrime['VANDAL_GEN111213'].sum()\n",
    "print 'Vandalism by gender bias over three years:'\n",
    "print vandal_gender111213\n",
    "\n",
    "hatecrime['VANDAL_DIS111213'] = hatecrime['VANDAL_DIS11'] + hatecrime['VANDAL_DIS12'] + hatecrime['VANDAL_DIS13']\n",
    "vandal_disability111213 = hatecrime['VANDAL_DIS111213'].sum()\n",
    "print 'Vandalism by disability bias over three years:'\n",
    "print vandal_disability111213\n",
    "\n",
    "hatecrime['VANDAL_ETH111213'] = hatecrime['VANDAL_ETH11'] + hatecrime['VANDAL_ETH12'] + hatecrime['VANDAL_ETH13']\n",
    "vandal_ethnicity111213 = hatecrime['VANDAL_ETH111213'].sum()\n",
    "print 'Vandalism by ethnicity bias over three years:'\n",
    "print vandal_ethnicity111213\n",
    "\n",
    "vandal_hate_all = vandal_race111213 + vandal_religion111213 + vandal_sex111213 + vandal_gender111213 + vandal_disability111213 + vandal_ethnicity111213\n",
    "print 'All together:'\n",
    "print vandal_hate_all"
   ]
  },
  {
   "cell_type": "markdown",
   "metadata": {},
   "source": [
    "<b>So there were a total of 1139 incidents of vandalism on college campuses over this three year period classified as a hatecrime. Given that the record layout for this is a little unclear, this either means that out of a total of 1151 incidents of vandalism, 98% of these reported incidents were classified as a hate crime OR that there were almost as many hate-crime related incidents of vandalism as ordinary acts of vandalism on college campuses.\n",
    "\n",
    "44 percent of all hate-based vandalism on campuses over this three year period was tied to a racial bias. Nearly 29 percent was over sexual orientation, 15 percent involved religious bias, and nearly 9 percent involved a relgious bias.\n",
    "</b>"
   ]
  },
  {
   "cell_type": "markdown",
   "metadata": {},
   "source": [
    "<b>Breaking down the reported hate crimes for each year</b>"
   ]
  },
  {
   "cell_type": "code",
   "execution_count": 397,
   "metadata": {
    "collapsed": false
   },
   "outputs": [
    {
     "name": "stdout",
     "output_type": "stream",
     "text": [
      "Reported incidents per year, 2011, 2012, 2013\n",
      "In 2011 to 2013, racial vandalism incidents:\n",
      "171.0\n",
      "187.0\n",
      "152\n",
      "Religion, 2011 - 2013:\n",
      "57.0\n",
      "71.0\n",
      "48\n",
      "Sexual Orientation 2011 -2013:\n",
      "105.0\n",
      "107.0\n",
      "114\n",
      "Gender 2011-2013\n",
      "7.0\n",
      "11.0\n",
      "17\n",
      "Disability 2011-2013\n",
      "1.0\n",
      "0.0\n",
      "2\n",
      "Ethnicity 2011-2013\n",
      "30.0\n",
      "34.0\n",
      "37\n"
     ]
    }
   ],
   "source": [
    "print 'Reported incidents per year, 2011, 2012, 2013'\n",
    "print 'In 2011 to 2013, racial vandalism incidents:' \n",
    "print hatecrime['VANDAL_RAC11'].sum()\n",
    "print hatecrime['VANDAL_RAC12'].sum()\n",
    "print hatecrime['VANDAL_RAC13'].sum()\n",
    "\n",
    "print 'Religion, 2011 - 2013:'\n",
    "print hatecrime['VANDAL_REL11'].sum()\n",
    "print hatecrime['VANDAL_REL12'].sum()\n",
    "print hatecrime['VANDAL_REL13'].sum()\n",
    "\n",
    "print 'Sexual Orientation 2011 -2013:' \n",
    "print hatecrime['VANDAL_SEX11'].sum()\n",
    "print hatecrime['VANDAL_SEX12'].sum()\n",
    "print hatecrime['VANDAL_SEX13'].sum()\n",
    "\n",
    "print 'Gender 2011-2013'\n",
    "print hatecrime['VANDAL_GEN11'].sum()\n",
    "print hatecrime['VANDAL_GEN12'].sum()\n",
    "print hatecrime['VANDAL_GEN13'].sum()\n",
    "\n",
    "print 'Disability 2011-2013'\n",
    "print hatecrime['VANDAL_DIS11'].sum()\n",
    "print hatecrime['VANDAL_DIS12'].sum()\n",
    "print hatecrime['VANDAL_DIS13'].sum()\n",
    "\n",
    "print 'Ethnicity 2011-2013'\n",
    "print hatecrime['VANDAL_ETH11'].sum()\n",
    "print hatecrime['VANDAL_ETH12'].sum()\n",
    "print hatecrime['VANDAL_ETH13'].sum()\n"
   ]
  },
  {
   "cell_type": "markdown",
   "metadata": {},
   "source": [
    "<b>So, there's not a lot of change in the number of incidents over the years. Vandalism tied to racial bias on college campuses remained the highest for each year, although it did drop by around 19 percent in 2013 and religious-related vandalism dropped by about 32 percent the same year. Vandalism tied to sexual orientation rose over this period.</b>"
   ]
  },
  {
   "cell_type": "code",
   "execution_count": 398,
   "metadata": {
    "collapsed": false
   },
   "outputs": [
    {
     "name": "stdout",
     "output_type": "stream",
     "text": [
      "       VANDAL_RAC111213  VANDAL_REL111213  VANDAL_SEX111213  VANDAL_GEN111213  \\\n",
      "State                                                                           \n",
      "NY                   67                47                23                 7   \n",
      "CA                   50                11                32                 3   \n",
      "PA                   36                20                27                 1   \n",
      "MA                   18                12                21                 1   \n",
      "OH                   24                 4                13                 2   \n",
      "CT                   16                 8                20                 0   \n",
      "IL                   21                 3                12                 1   \n",
      "MD                   22                 8                 9                 0   \n",
      "NJ                   17                12                10                 0   \n",
      "MI                   15                 8                 7                 0   \n",
      "WA                   12                 3                13                 0   \n",
      "IN                   23                 3                 1                 0   \n",
      "DC                   17                 3                 5                 1   \n",
      "CO                    7                 4                10                 1   \n",
      "WI                   11                 0                 9                 0   \n",
      "MN                    7                 2                 8                 0   \n",
      "FL                   13                 4                 3                 0   \n",
      "IA                    7                 5                 6                 1   \n",
      "OR                   11                 1                 6                 0   \n",
      "VA                    3                 6                 8                 0   \n",
      "RI                    5                 0                12                 0   \n",
      "MO                    9                 0                 5                 1   \n",
      "NH                    7                 1                 8                 0   \n",
      "KY                   12                 0                 2                 1   \n",
      "SC                   12                 0                 2                 0   \n",
      "TX                    7                 1                 6                 0   \n",
      "NC                    9                 0                 4                 0   \n",
      "OK                    3                 1                 3                 2   \n",
      "ME                    3                 1                 7                 0   \n",
      "NM                    3                 0                 4                 3   \n",
      "VT                    2                 3                 4                 1   \n",
      "SD                    8                 0                 0                 0   \n",
      "GA                    4                 2                 2                 1   \n",
      "KS                    4                 1                 0                 2   \n",
      "AZ                    2                 0                 2                 0   \n",
      "NE                    1                 0                 4                 0   \n",
      "AR                    3                 0                 1                 0   \n",
      "LA                    3                 0                 0                 1   \n",
      "TN                    2                 0                 0                 2   \n",
      "AL                    1                 0                 3                 0   \n",
      "WV                    3                 0                 0                 0   \n",
      "ID                    1                 0                 1                 0   \n",
      "UT                    0                 0                 3                 0   \n",
      "MS                    0                 0                 2                 0   \n",
      "MT                    0                 0                 2                 0   \n",
      "ND                    1                 0                 1                 0   \n",
      "PR                    0                 0                 0                 2   \n",
      "HI                    0                 0                 2                 0   \n",
      "WY                    0                 0                 2                 0   \n",
      "AK                    0                 1                 0                 0   \n",
      "DE                    0                 0                 0                 0   \n",
      "FM                    0                 0                 0                 0   \n",
      "GU                    0                 0                 0                 0   \n",
      "MH                    0                 0                 0                 0   \n",
      "NV                    0                 0                 0                 0   \n",
      "AS                    0                 0                 0                 0   \n",
      "PW                    0                 0                 0                 0   \n",
      "VI                    0                 0                 0                 0   \n",
      "MP                    0                 0                 0                 0   \n",
      "\n",
      "       VANDAL_DIS111213  VANDAL_ETH111213  VANDAL_HATE111213  \n",
      "State                                                         \n",
      "NY                    1                22                167  \n",
      "CA                    0                18                114  \n",
      "PA                    1                 9                 94  \n",
      "MA                    0                11                 63  \n",
      "OH                    0                 4                 47  \n",
      "CT                    0                 0                 44  \n",
      "IL                    0                 6                 43  \n",
      "MD                    0                 3                 42  \n",
      "NJ                    0                 3                 42  \n",
      "MI                    0                 0                 30  \n",
      "WA                    0                 1                 29  \n",
      "IN                    0                 1                 28  \n",
      "DC                    0                 0                 26  \n",
      "CO                    0                 4                 26  \n",
      "WI                    0                 2                 22  \n",
      "MN                    0                 4                 21  \n",
      "FL                    0                 0                 20  \n",
      "IA                    0                 0                 19  \n",
      "OR                    0                 1                 19  \n",
      "VA                    0                 1                 18  \n",
      "RI                    0                 0                 17  \n",
      "MO                    0                 1                 16  \n",
      "NH                    0                 0                 16  \n",
      "KY                    0                 0                 15  \n",
      "SC                    0                 0                 14  \n",
      "TX                    0                 0                 14  \n",
      "NC                    0                 1                 14  \n",
      "OK                    0                 3                 12  \n",
      "ME                    0                 0                 11  \n",
      "NM                    0                 0                 10  \n",
      "VT                    0                 0                 10  \n",
      "SD                    0                 1                  9  \n",
      "GA                    0                 0                  9  \n",
      "KS                    1                 0                  8  \n",
      "AZ                    0                 2                  6  \n",
      "NE                    0                 0                  5  \n",
      "AR                    0                 1                  5  \n",
      "LA                    0                 0                  4  \n",
      "TN                    0                 0                  4  \n",
      "AL                    0                 0                  4  \n",
      "WV                    0                 0                  3  \n",
      "ID                    0                 1                  3  \n",
      "UT                    0                 0                  3  \n",
      "MS                    0                 0                  2  \n",
      "MT                    0                 0                  2  \n",
      "ND                    0                 0                  2  \n",
      "PR                    0                 0                  2  \n",
      "HI                    0                 0                  2  \n",
      "WY                    0                 0                  2  \n",
      "AK                    0                 0                  1  \n",
      "DE                    0                 0                  0  \n",
      "FM                    0                 0                  0  \n",
      "GU                    0                 0                  0  \n",
      "MH                    0                 0                  0  \n",
      "NV                    0                 0                  0  \n",
      "AS                    0                 0                  0  \n",
      "PW                    0                 0                  0  \n",
      "VI                    0                 0                  0  \n",
      "MP                    0                 0                  0  \n",
      "\n",
      "[59 rows x 7 columns]\n"
     ]
    }
   ],
   "source": [
    "hatecrime['VANDAL_HATE111213'] = hatecrime['VANDAL_RAC111213'] + hatecrime['VANDAL_REL111213'] + hatecrime['VANDAL_SEX111213'] + hatecrime['VANDAL_GEN111213'] + hatecrime['VANDAL_DIS111213'] + hatecrime['VANDAL_ETH111213']\n",
    "hate_by_state = hatecrime[['State', 'VANDAL_RAC111213', 'VANDAL_REL111213', 'VANDAL_SEX111213', 'VANDAL_GEN111213', 'VANDAL_DIS111213', 'VANDAL_ETH111213', 'VANDAL_HATE111213']]\n",
    "hate_by_state_result = hate_by_state.groupby(['State']).aggregate(np.sum).sort(['VANDAL_HATE111213'], ascending=False)\n",
    "print hate_by_state_result"
   ]
  },
  {
   "cell_type": "markdown",
   "metadata": {},
   "source": [
    "<b>I thought this may have yielded something interesting, but it's a little underwhelming. Both NY and CA have a lot of campuses.</b>"
   ]
  },
  {
   "cell_type": "code",
   "execution_count": 399,
   "metadata": {
    "collapsed": false
   },
   "outputs": [
    {
     "name": "stdout",
     "output_type": "stream",
     "text": [
      "                                         INSTNM State  \\\n",
      "1023                         Fort Lewis College    CO   \n",
      "5742                    Delaware Valley College    PA   \n",
      "1146                            Trinity College    CT   \n",
      "469           University of California-Berkeley    CA   \n",
      "5906  Pennsylvania State University-Main Campus    PA   \n",
      "3160                    Northeastern University    MA   \n",
      "1183                        American University    DC   \n",
      "2220               Indiana University-Southeast    IN   \n",
      "5350                            Oberlin College    OH   \n",
      "5365          Ohio State University-Main Campus    OH   \n",
      "\n",
      "                           BRANCH  VANDAL_RAC111213  VANDAL_REL111213  \\\n",
      "1023                  Main Campus                 2                 1   \n",
      "5742      Delaware Valley College                 6                 4   \n",
      "1146  Main Campus Trinity College                 0                 3   \n",
      "469                   Main Campus                 1                 1   \n",
      "5906       University Park Campus                 6                 3   \n",
      "3160                  Main Campus                 3                 2   \n",
      "1183                  Main Campus                 8                 1   \n",
      "2220                  Main Campus                10                 0   \n",
      "5350                  Main Campus                 5                 4   \n",
      "5365                  Main Campus                 2                 0   \n",
      "\n",
      "      VANDAL_SEX111213  VANDAL_GEN111213  VANDAL_DIS111213  VANDAL_ETH111213  \\\n",
      "1023                 8                 0                 0                 4   \n",
      "5742                 4                 0                 0                 0   \n",
      "1146                 9                 0                 0                 0   \n",
      "469                  6                 0                 0                 4   \n",
      "5906                 3                 0                 0                 0   \n",
      "3160                 3                 0                 0                 3   \n",
      "1183                 2                 0                 0                 0   \n",
      "2220                 0                 0                 0                 0   \n",
      "5350                 1                 0                 0                 0   \n",
      "5365                 4                 2                 0                 1   \n",
      "\n",
      "      VANDAL_HATE111213  \n",
      "1023                 15  \n",
      "5742                 14  \n",
      "1146                 12  \n",
      "469                  12  \n",
      "5906                 12  \n",
      "3160                 11  \n",
      "1183                 11  \n",
      "2220                 10  \n",
      "5350                 10  \n",
      "5365                  9  \n",
      "\n",
      "[10 rows x 10 columns]\n"
     ]
    }
   ],
   "source": [
    "hate_by_campus = hatecrime[['INSTNM', 'State', 'BRANCH', 'VANDAL_RAC111213', 'VANDAL_REL111213', 'VANDAL_SEX111213', 'VANDAL_GEN111213', 'VANDAL_DIS111213', 'VANDAL_ETH111213', 'VANDAL_HATE111213']]\n",
    "hate_by_campus_result = hate_by_campus.sort(['VANDAL_HATE111213'], ascending=False)\n",
    "print hate_by_campus_result.dropna()[:10]"
   ]
  },
  {
   "cell_type": "markdown",
   "metadata": {},
   "source": [
    "<b>While this is based around hate-based vandalism incidents, it's important to note that this table is almost identical to the earlier table based on reported vandalism. This gives credence to the notion that the VANDAL_11 column and the subsequent years bundle the total of hate-based vandalism and other vandalism together.</b>"
   ]
  },
  {
   "cell_type": "code",
   "execution_count": 400,
   "metadata": {
    "collapsed": false
   },
   "outputs": [
    {
     "name": "stdout",
     "output_type": "stream",
     "text": [
      "                                           INSTNM State  \\\n",
      "4723                           SUNY at Binghamton    NY   \n",
      "4721                               SUNY at Albany    NY   \n",
      "4850           SUNY Westchester Community College    NY   \n",
      "4730                           Buffalo State SUNY    NY   \n",
      "4506                             Hamilton College    NY   \n",
      "4725                       Stony Brook University    NY   \n",
      "4426  Columbia University in the City of New York    NY   \n",
      "4381                                 Bard College    NY   \n",
      "4414                            Cazenovia College    NY   \n",
      "4734    State University of New York at New Paltz    NY   \n",
      "\n",
      "                                                 BRANCH  VANDAL_RAC111213  \\\n",
      "4723                                        Main Campus                 2   \n",
      "4721                                        Main Campus                 6   \n",
      "4850                                        Main Campus                 7   \n",
      "4730                              Buffalo State College                 1   \n",
      "4506                                        Main Campus                 0   \n",
      "4725                             Stony Brook University                 2   \n",
      "4426                 Columbia University Medical Center                 0   \n",
      "4381                                        Main Campus                 3   \n",
      "4414                                        Main Campus                 0   \n",
      "4734  State University of New York, College at New P...                 3   \n",
      "\n",
      "      VANDAL_REL111213  VANDAL_SEX111213  VANDAL_GEN111213  VANDAL_DIS111213  \\\n",
      "4723                 6                 1                 0                 0   \n",
      "4721                 1                 2                 0                 0   \n",
      "4850                 0                 0                 1                 0   \n",
      "4730                 0                 2                 1                 0   \n",
      "4506                 1                 2                 1                 0   \n",
      "4725                 4                 0                 0                 0   \n",
      "4426                 5                 0                 0                 0   \n",
      "4381                 1                 1                 0                 0   \n",
      "4414                 1                 2                 2                 0   \n",
      "4734                 1                 1                 0                 0   \n",
      "\n",
      "      VANDAL_ETH111213  VANDAL_HATE111213  \n",
      "4723                 0                  9  \n",
      "4721                 0                  9  \n",
      "4850                 0                  8  \n",
      "4730                 3                  7  \n",
      "4506                 3                  7  \n",
      "4725                 0                  6  \n",
      "4426                 0                  5  \n",
      "4381                 0                  5  \n",
      "4414                 0                  5  \n",
      "4734                 0                  5  \n",
      "\n",
      "[10 rows x 10 columns]\n"
     ]
    }
   ],
   "source": [
    "hate_by_campus_ny = hate_by_campus.loc[hate_by_campus['State'] == 'NY'].sort(['VANDAL_HATE111213'], ascending=False)\n",
    "print hate_by_campus_ny.dropna()[:10]"
   ]
  },
  {
   "cell_type": "markdown",
   "metadata": {},
   "source": [
    "<b>Could potentially make for an interesting infographic. What kind of incidents have occurred on each campus over this three-year period. Ex. SUNY Albany has had more racially motivated incidents of vandalism while SUNY Binghamton has had more instances of relgious vandalism.</b>"
   ]
  },
  {
   "cell_type": "code",
   "execution_count": 401,
   "metadata": {
    "collapsed": false
   },
   "outputs": [
    {
     "name": "stdout",
     "output_type": "stream",
     "text": [
      "                                          INSTNM State  \\\n",
      "3809             University of Missouri-Columbia    MO   \n",
      "3880                      Saint Louis University    MO   \n",
      "3892               Saint Louis Community College    MO   \n",
      "3916              North Central Missouri College    MO   \n",
      "3875                    Ranken Technical College    MO   \n",
      "3989                      William Jewell College    MO   \n",
      "3899                Southwest Baptist University    MO   \n",
      "3769                       Lindenwood University    MO   \n",
      "3782  Metropolitan Community College-Kansas City    MO   \n",
      "3825                       Neosho Beauty College    MO   \n",
      "\n",
      "                                     BRANCH  VANDAL_RAC111213  \\\n",
      "3809                            Main Campus                 4   \n",
      "3880                            Main Campus                 0   \n",
      "3892  Saint Louis Community College-Meramec                 2   \n",
      "3916                            Main Campus                 0   \n",
      "3875                            Main Campus                 2   \n",
      "3989                 William Jewell College                 0   \n",
      "3899                            Main Campus                 1   \n",
      "3769                  Lindenwood University                 0   \n",
      "3782                            Main Campus                 0   \n",
      "3825                            Main Campus                 0   \n",
      "\n",
      "      VANDAL_REL111213  VANDAL_SEX111213  VANDAL_GEN111213  VANDAL_DIS111213  \\\n",
      "3809                 0                 0                 0                 0   \n",
      "3880                 0                 3                 0                 0   \n",
      "3892                 0                 0                 0                 0   \n",
      "3916                 0                 1                 1                 0   \n",
      "3875                 0                 0                 0                 0   \n",
      "3989                 0                 1                 0                 0   \n",
      "3899                 0                 0                 0                 0   \n",
      "3769                 0                 0                 0                 0   \n",
      "3782                 0                 0                 0                 0   \n",
      "3825                 0                 0                 0                 0   \n",
      "\n",
      "      VANDAL_ETH111213  VANDAL_HATE111213  \n",
      "3809                 0                  4  \n",
      "3880                 0                  3  \n",
      "3892                 1                  3  \n",
      "3916                 0                  2  \n",
      "3875                 0                  2  \n",
      "3989                 0                  1  \n",
      "3899                 0                  1  \n",
      "3769                 0                  0  \n",
      "3782                 0                  0  \n",
      "3825                 0                  0  \n",
      "\n",
      "[10 rows x 10 columns]\n"
     ]
    }
   ],
   "source": [
    "hate_by_campus_mo = hate_by_campus.loc[hate_by_campus['State'] == 'MO'].sort(['VANDAL_HATE111213'], ascending=False)\n",
    "print hate_by_campus_mo.dropna()[:10]"
   ]
  },
  {
   "cell_type": "markdown",
   "metadata": {},
   "source": [
    "<b>Ah, there's Mizzou at number one for the number of hate-based vandalism on a college campus in Missouri. There were four reported incidents at Mizzou during this period, all racially based. There were only sixteen reported cases of hate-based vandalism on Missouri campuses during this three-year period.</b>"
   ]
  },
  {
   "cell_type": "code",
   "execution_count": 402,
   "metadata": {
    "collapsed": false
   },
   "outputs": [
    {
     "name": "stdout",
     "output_type": "stream",
     "text": [
      "                               INSTNM  VANDAL_RAC11  VANDAL_RAC12  \\\n",
      "3809  University of Missouri-Columbia             2             0   \n",
      "\n",
      "      VANDAL_RAC13  \n",
      "3809             2  \n",
      "\n",
      "[1 rows x 4 columns]\n"
     ]
    }
   ],
   "source": [
    "MU_VANDAL_RACE = hatecrime[['INSTNM', 'VANDAL_RAC11', 'VANDAL_RAC12', 'VANDAL_RAC13']]\n",
    "mizzou_hate = MU_VANDAL_RACE.loc[MU_VANDAL_RACE['INSTNM'] == 'University of Missouri-Columbia']\n",
    "print mizzou_hate.dropna()"
   ]
  },
  {
   "cell_type": "markdown",
   "metadata": {},
   "source": [
    "<b>And now I know when the incidents occurred which will make it just a little bit easier if I were to request the incident reports of these events.</b>"
   ]
  },
  {
   "cell_type": "markdown",
   "metadata": {},
   "source": [
    "<b>While I think the idea has potential, I'm not quite sure if much of what's been pulled from this database would work for a local piece. The incidents that have occurred at Mizzou could make for a decent contextual piece to current events, but I'm not sure this database is much use for that. \n",
    "\n",
    "Racially motivated incidents of vandalism occur on campuses more often than other hate-based vandalism incidents. Based on what I've uncovered, it looks like incidents of hate-based vandalism vastly overshadow non hate-based incidents. While there appears to have been some drops in religious and racial incidents, gender, sexual orientation, and ethnicity incidents increased over the three-year period.\n",
    "\n",
    "I could see the information yielded from this database featured as supplemental material to a more personal story about the economic cost (which I would guess is usually marginal) and the emotional stress these incidents create on a college campus. Readers could visit a page and look up the number of incidents on the campus they enter in the search box. This data could also potentially be used for mapping incidents of vandalism and color-coding them by their particular classification (race, religion, sexual orientation, gender, etc.). </b>"
   ]
  }
 ],
 "metadata": {
  "kernelspec": {
   "display_name": "Python 2",
   "language": "python",
   "name": "python2"
  },
  "language_info": {
   "codemirror_mode": {
    "name": "ipython",
    "version": 2
   },
   "file_extension": ".py",
   "mimetype": "text/x-python",
   "name": "python",
   "nbconvert_exporter": "python",
   "pygments_lexer": "ipython2",
   "version": "2.7.6"
  }
 },
 "nbformat": 4,
 "nbformat_minor": 0
}
